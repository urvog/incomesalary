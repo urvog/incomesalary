{
  "cells": [
    {
      "cell_type": "markdown",
      "metadata": {
        "id": "view-in-github",
        "colab_type": "text"
      },
      "source": [
        "<a href=\"https://colab.research.google.com/github/urvog/incomesalary/blob/main/Unidad_II_Tema_15_Random_Forest%2C_XGBoost%2C_NN.ipynb\" target=\"_parent\"><img src=\"https://colab.research.google.com/assets/colab-badge.svg\" alt=\"Open In Colab\"/></a>"
      ]
    },
    {
      "cell_type": "markdown",
      "metadata": {
        "id": "sClEmA1LyD0v"
      },
      "source": [
        "#Tema 15,16 ALGORITMOS BAGGING, BOOSTING, NEURAL NETWORKS\n",
        "\n",
        "<img src=\"https://www.neuraldojo.org/media/forest4.jpeg\"\n",
        "     alt=\"Markdown Monster icon\"\n",
        "     style=\"float: left; margin-right: 10px;\" width=\"100%\"/>\n",
        "     \n",
        "##Ingresos $ de personas adultas\n",
        "\n",
        "**Objetivo**\n",
        "Predecir si los ingresos exceden los $50K/año según los datos del censo. También conocido como conjunto de datos de \"Ingresos del censo\".\n",
        "\n",
        ">50K, <=50K.\n",
        "\n",
        "Columnas:\n",
        "- age: edad (continuous)\n",
        "- workclass: Private, Self-emp-not-inc, Self-emp-inc, Federal-gov, Local-gov, - State-gov, Without-pay, Never-worked.\n",
        "- fnlwgt: continuous.\n",
        "- education: Bachelors, Some-college, 11th, HS-grad, Prof-school, Assoc-acdm, Assoc-voc, 9th, 7th-8th, 12th, Masters, 1st-4th, 10th, Doctorate, 5th-6th, Preschool.\n",
        "- education-num: continuous.\n",
        "- marital-status: Married-civ-spouse, Divorced, Never-married, Separated, Widowed, Married-spouse-absent, Married-AF-spouse.\n",
        "- occupation: Tech-support, Craft-repair, Other-service, Sales, Exec-managerial, Prof-specialty, Handlers-cleaners, Machine-op-inspct, Adm-clerical, Farming-fishing, Transport-moving, Priv-house-serv, Protective-serv, Armed-Forces.\n",
        "relationship: Wife, Own-child, Husband, Not-in-family, Other-relative, Unmarried.\n",
        "- race: White, Asian-Pac-Islander, Amer-Indian-Eskimo, Other, Black.\n",
        "- sex: Female, Male.\n",
        "- capital-gain: continuous.\n",
        "- capital-loss: continuous.\n",
        "- hours-per-week: continuous.\n",
        "- native-country: United-States, Cambodia, England, Puerto-Rico, Canada, Germany, Outlying-US(Guam-USVI-etc), India, Japan, Greece, South, China, Cuba, Iran, Honduras, Philippines, Italy, Poland, Jamaica, Vietnam, Mexico, Portugal, Ireland, France, Dominican-Republic, Laos, Ecuador, Taiwan, Haiti, Columbia, Hungary, Guatemala, Nicaragua, Scotland, Thailand, Yugoslavia, El-Salvador, Trinadad&Tobago, Peru, Hong, Holand-Netherlands."
      ]
    },
    {
      "cell_type": "code",
      "source": [
        "from tensorflow.python.client import device_lib\n",
        "device_lib.list_local_devices()"
      ],
      "metadata": {
        "colab": {
          "base_uri": "https://localhost:8080/"
        },
        "id": "WrNmyfCmqW6V",
        "outputId": "bb93318b-bd2c-4289-9cdb-e3eabec30658"
      },
      "execution_count": 2,
      "outputs": [
        {
          "output_type": "execute_result",
          "data": {
            "text/plain": [
              "[name: \"/device:CPU:0\"\n",
              " device_type: \"CPU\"\n",
              " memory_limit: 268435456\n",
              " locality {\n",
              " }\n",
              " incarnation: 18030331028342760550\n",
              " xla_global_id: -1, name: \"/device:GPU:0\"\n",
              " device_type: \"GPU\"\n",
              " memory_limit: 16154099712\n",
              " locality {\n",
              "   bus_id: 1\n",
              "   links {\n",
              "   }\n",
              " }\n",
              " incarnation: 17246102151484371260\n",
              " physical_device_desc: \"device: 0, name: Tesla P100-PCIE-16GB, pci bus id: 0000:00:04.0, compute capability: 6.0\"\n",
              " xla_global_id: 416903419]"
            ]
          },
          "metadata": {},
          "execution_count": 2
        }
      ]
    },
    {
      "cell_type": "markdown",
      "metadata": {
        "id": "9wcJ35LW0YnZ"
      },
      "source": [
        "## 1.- Importando los datos"
      ]
    },
    {
      "cell_type": "code",
      "execution_count": null,
      "metadata": {
        "id": "PrMvv80nyCjd"
      },
      "outputs": [],
      "source": [
        "!wget https://neuraldojo.org/media/income/income.csv"
      ]
    },
    {
      "cell_type": "code",
      "execution_count": null,
      "metadata": {
        "id": "Dkq_KFtFyQW7"
      },
      "outputs": [],
      "source": [
        "%matplotlib inline\n",
        "import pandas as pd\n",
        "import numpy as np\n",
        "import matplotlib.pyplot as plt\n",
        "import seaborn as sns\n",
        "from sklearn.model_selection import train_test_split"
      ]
    },
    {
      "cell_type": "code",
      "execution_count": null,
      "metadata": {
        "id": "Li-eLa_BybDR"
      },
      "outputs": [],
      "source": [
        "df_income = pd.read_csv('income.csv')"
      ]
    },
    {
      "cell_type": "code",
      "execution_count": null,
      "metadata": {
        "id": "ZvpJQNeh0spB"
      },
      "outputs": [],
      "source": [
        "df_income.shape"
      ]
    },
    {
      "cell_type": "markdown",
      "metadata": {
        "id": "05rLxb4m0cs4"
      },
      "source": [
        "##2.- Analysis Exploratorio de Datos (EDA)"
      ]
    },
    {
      "cell_type": "code",
      "execution_count": null,
      "metadata": {
        "id": "oJtkYF46ypEw"
      },
      "outputs": [],
      "source": [
        "df_income.info()"
      ]
    },
    {
      "cell_type": "code",
      "execution_count": null,
      "metadata": {
        "id": "8tvB9nD6zsYQ"
      },
      "outputs": [],
      "source": [
        "df_income.isnull().sum()"
      ]
    },
    {
      "cell_type": "code",
      "execution_count": null,
      "metadata": {
        "id": "XHR0RqxuDYZY"
      },
      "outputs": [],
      "source": [
        "df_income.columns"
      ]
    },
    {
      "cell_type": "code",
      "execution_count": null,
      "metadata": {
        "id": "Y3viPexTEm6g"
      },
      "outputs": [],
      "source": [
        "#Verificamos la distribución de nuestra variable objetivo\n",
        "df_income['income_>50K'].value_counts()"
      ]
    },
    {
      "cell_type": "markdown",
      "source": [
        "### 2.1 Analisis Univariable"
      ],
      "metadata": {
        "id": "v6IUxnkqHAiB"
      }
    },
    {
      "cell_type": "code",
      "source": [
        "# Distribucion de la Edad\n",
        "age = df_income['age'].value_counts()\n",
        "\n",
        "plt.figure(figsize=(10, 5))\n",
        "plt.style.use('fivethirtyeight')\n",
        "sns.distplot(df_income['age'], bins=20)\n",
        "plt.title('Distribucion de la edad', fontdict={\n",
        "          'fontname': 'Monospace', 'fontsize': 20, 'fontweight': 'bold'})\n",
        "plt.xlabel('Edad', fontdict={'fontname': 'Monospace', 'fontsize': 15})\n",
        "plt.ylabel('Numero de personas', fontdict={\n",
        "           'fontname': 'Monospace', 'fontsize': 15})\n",
        "plt.tick_params(labelsize=10)\n",
        "plt.show()"
      ],
      "metadata": {
        "id": "c-I8pBrK-ISD"
      },
      "execution_count": null,
      "outputs": []
    },
    {
      "cell_type": "code",
      "source": [
        "# Distribucion de la educacion\n",
        "edu = df_income['education'].value_counts()\n",
        "\n",
        "plt.style.use('seaborn')\n",
        "plt.figure(figsize=(10, 5))\n",
        "sns.barplot(edu.values, edu.index, palette='Paired')\n",
        "plt.title('Distribucion de la Educacion', fontdict={\n",
        "          'fontname': 'Monospace', 'fontsize': 20, 'fontweight': 'bold'})\n",
        "plt.xlabel('Numero de personasl', fontdict={\n",
        "           'fontname': 'Monospace', 'fontsize': 15})\n",
        "plt.ylabel('Educacion', fontdict={'fontname': 'Monospace', 'fontsize': 15})\n",
        "plt.tick_params(labelsize=12)\n",
        "plt.show()"
      ],
      "metadata": {
        "id": "YSh4M5uo-U55"
      },
      "execution_count": null,
      "outputs": []
    },
    {
      "cell_type": "code",
      "source": [
        "# Distribuion de los años de educación\n",
        "edu_num = df_income['educational-num'].value_counts()\n",
        "\n",
        "plt.style.use('ggplot')\n",
        "plt.figure(figsize=(10, 5))\n",
        "sns.barplot(edu_num.index, edu_num.values, palette='colorblind')\n",
        "plt.title('Distribucion de los años de educación', fontdict={\n",
        "          'fontname': 'Monospace', 'fontsize': 20, 'fontweight': 'bold'})\n",
        "plt.xlabel('Años', fontdict={\n",
        "           'fontname': 'Monospace', 'fontsize': 15})\n",
        "plt.ylabel('Numero de Personas', fontdict={\n",
        "           'fontname': 'Monospace', 'fontsize': 15})\n",
        "plt.tick_params(labelsize=12)\n",
        "plt.show()"
      ],
      "metadata": {
        "id": "QrCKrMm--nMr"
      },
      "execution_count": null,
      "outputs": []
    },
    {
      "cell_type": "code",
      "source": [
        "# Una torta de distribucion del estado scivil\n",
        "marital = df_income['marital-status'].value_counts()\n",
        "\n",
        "plt.style.use('default')\n",
        "plt.figure(figsize=(7, 5))\n",
        "plt.pie(marital.values, labels=marital.index, startangle=10, explode=(\n",
        "    0, 0.20, 0, 0, 0, 0, 0), shadow=True, autopct='%1.1f%%')\n",
        "plt.title('Distribucion del estado civil', fontdict={\n",
        "          'fontname': 'Monospace', 'fontsize': 15, 'fontweight': 'bold'})\n",
        "plt.legend()\n",
        "plt.legend(prop={'size': 7})\n",
        "plt.axis('equal')\n",
        "plt.show()"
      ],
      "metadata": {
        "id": "d02CxX8l_Geu"
      },
      "execution_count": null,
      "outputs": []
    },
    {
      "cell_type": "code",
      "source": [
        "# Dibujemos un dona del tipo de relación\n",
        "relation = df_income['relationship'].value_counts()\n",
        "\n",
        "plt.style.use('bmh')\n",
        "plt.figure(figsize=(10, 5))\n",
        "plt.pie(relation.values, labels=relation.index,\n",
        "        startangle=50, autopct='%1.1f%%')\n",
        "centre_circle = plt.Circle((0, 0), 0.7, fc='white')\n",
        "fig = plt.gcf()\n",
        "fig.gca().add_artist(centre_circle)\n",
        "plt.title('Distribucion de la Relación', fontdict={\n",
        "          'fontname': 'Monospace', 'fontsize': 15, 'fontweight': 'bold'})\n",
        "plt.axis('equal')\n",
        "plt.legend(prop={'size': 10})\n",
        "plt.show()"
      ],
      "metadata": {
        "id": "ncYVb28I_ZMG"
      },
      "execution_count": null,
      "outputs": []
    },
    {
      "cell_type": "code",
      "source": [
        "# Distribucion del Sexo\n",
        "sex = df_income['gender'].value_counts()\n",
        "\n",
        "plt.style.use('default')\n",
        "plt.figure(figsize=(7, 5))\n",
        "sns.barplot(sex.index, sex.values)\n",
        "plt.title('Distribucion de Sexo', fontdict={\n",
        "          'fontname': 'Monospace', 'fontsize': 20, 'fontweight': 'bold'})\n",
        "plt.xlabel('Sexo', fontdict={'fontname': 'Monospace', 'fontsize': 15})\n",
        "plt.ylabel('Numero de personas', fontdict={\n",
        "           'fontname': 'Monospace', 'fontsize': 15})\n",
        "plt.tick_params(labelsize=10)\n",
        "plt.grid()\n",
        "plt.show()"
      ],
      "metadata": {
        "id": "UddwzPW7_1sy"
      },
      "execution_count": null,
      "outputs": []
    },
    {
      "cell_type": "code",
      "source": [
        "# Creando un mapa de arbol para la razas\n",
        "!pip install squarify\n",
        "import squarify\n",
        "race = df_income['race'].value_counts()\n",
        "\n",
        "plt.style.use('default')\n",
        "plt.figure(figsize=(7, 5))\n",
        "squarify.plot(sizes=race.values, label=race.index, value=race.values)\n",
        "plt.title('Distribucion de la Raza', fontdict={\n",
        "          'fontname': 'Monospace', 'fontsize': 15, 'fontweight': 'bold'})\n",
        "plt.show()"
      ],
      "metadata": {
        "id": "KZeH_k-cALBZ"
      },
      "execution_count": null,
      "outputs": []
    },
    {
      "cell_type": "code",
      "source": [
        "# Creando una distribución de las horas por semana\n",
        "hours = df_income['hours-per-week'].value_counts().head(10)\n",
        "\n",
        "plt.style.use('bmh')\n",
        "plt.figure(figsize=(12, 5))\n",
        "sns.barplot(hours.index, hours.values, palette='colorblind')\n",
        "plt.title('Distribution of Hours of work per week', fontdict={\n",
        "          'fontname': 'Monospace', 'fontsize': 15, 'fontweight': 'bold'})\n",
        "plt.xlabel('Horas a la semana', fontdict={'fontname': 'Monospace', 'fontsize': 15})\n",
        "plt.ylabel('Numero de personas', fontdict={\n",
        "           'fontname': 'Monospace', 'fontsize': 15})\n",
        "plt.tick_params(labelsize=12)\n",
        "plt.show()"
      ],
      "metadata": {
        "id": "-HL2-HsTAZB9"
      },
      "execution_count": null,
      "outputs": []
    },
    {
      "cell_type": "markdown",
      "source": [
        "###2.2 Analisis Bi-variable"
      ],
      "metadata": {
        "id": "CdAY2juxHQ0n"
      }
    },
    {
      "cell_type": "code",
      "source": [
        "# Ingresos vs Edad\n",
        "plt.style.use('default')\n",
        "plt.figure(figsize=(15, 7))\n",
        "sns.countplot(df_income['age'], hue=df_income['income_>50K'])\n",
        "plt.title('Distribucion Ingresos vs Edad', fontdict={\n",
        "          'fontname': 'Monospace', 'fontsize': 20, 'fontweight': 'bold'})\n",
        "plt.xlabel('Edad', fontdict={'fontname': 'Monospace', 'fontsize': 10})\n",
        "plt.ylabel('Numero de Personas', fontdict={\n",
        "           'fontname': 'Monospace', 'fontsize': 10})\n",
        "plt.tick_params(labelsize=10)\n",
        "plt.legend(loc=1, prop={'size': 15})\n",
        "plt.show()"
      ],
      "metadata": {
        "id": "JkmrvZEnHlO1"
      },
      "execution_count": null,
      "outputs": []
    },
    {
      "cell_type": "code",
      "source": [
        "# Ingresos vs Edacacion\n",
        "plt.style.use('seaborn')\n",
        "plt.figure(figsize=(15, 7))\n",
        "sns.countplot(df_income['education'],\n",
        "              hue=df_income['income_>50K'], palette='colorblind')\n",
        "plt.title('Distribution INgresos vs Education', fontdict={\n",
        "          'fontname': 'Monospace', 'fontsize': 20, 'fontweight': 'bold'})\n",
        "plt.xlabel('Educacion', fontdict={'fontname': 'Monospace', 'fontsize': 15})\n",
        "plt.ylabel('Numero de personas', fontdict={\n",
        "           'fontname': 'Monospace', 'fontsize': 15})\n",
        "plt.tick_params(labelsize=10)\n",
        "plt.legend(loc=1, prop={'size': 10})\n",
        "plt.show()"
      ],
      "metadata": {
        "id": "GPe48KCGHw9F"
      },
      "execution_count": null,
      "outputs": []
    },
    {
      "cell_type": "code",
      "source": [
        "# Ingresos vs Años de Educación\n",
        "plt.style.use('bmh')\n",
        "plt.figure(figsize=(15, 7))\n",
        "sns.countplot(df_income['educational-num'],\n",
        "              hue=df_income['income_>50K'])\n",
        "plt.title('Ingresos Vs Años de Educación', fontdict={\n",
        "          'fontname': 'Monospace', 'fontsize': 20, 'fontweight': 'bold'})\n",
        "plt.xlabel('Años de Educación', fontdict={\n",
        "           'fontname': 'Monospace', 'fontsize': 15})\n",
        "plt.ylabel('Numero de Personas', fontdict={\n",
        "           'fontname': 'Monospace', 'fontsize': 15})\n",
        "plt.tick_params(labelsize=10)\n",
        "plt.legend(loc=1, prop={'size': 15})\n",
        "plt.show()"
      ],
      "metadata": {
        "id": "z0SqzGMKH3aR"
      },
      "execution_count": null,
      "outputs": []
    },
    {
      "cell_type": "code",
      "source": [
        "# Ingresos vs Estado Civil\n",
        "plt.style.use('seaborn')\n",
        "plt.figure(figsize=(15, 7))\n",
        "sns.countplot(df_income['marital-status'], hue=df_income['income_>50K'])\n",
        "plt.title('Ingresos Vs Estado Civil', fontdict={\n",
        "          'fontname': 'Monospace', 'fontsize': 20, 'fontweight': 'bold'})\n",
        "plt.xlabel('Estado Civil', fontdict={\n",
        "           'fontname': 'Monospace', 'fontsize': 15})\n",
        "plt.ylabel('Numero de personas', fontdict={\n",
        "           'fontname': 'Monospace', 'fontsize': 15})\n",
        "plt.tick_params(labelsize=10)\n",
        "plt.legend(loc=1, prop={'size': 15})\n",
        "plt.show()"
      ],
      "metadata": {
        "id": "KsPfxcJQI16R"
      },
      "execution_count": null,
      "outputs": []
    },
    {
      "cell_type": "code",
      "source": [
        "# Ingresos vs Raza\n",
        "plt.style.use('fivethirtyeight')\n",
        "plt.figure(figsize=(15, 7))\n",
        "sns.countplot(df_income['race'], hue=df_income['income_>50K'])\n",
        "plt.title('Ingresos vs Raza', fontdict={\n",
        "          'fontname': 'Monospace', 'fontsize': 20, 'fontweight': 'bold'})\n",
        "plt.xlabel('Raza', fontdict={\n",
        "           'fontname': 'Monospace', 'fontsize': 15})\n",
        "plt.ylabel('Numero de Personas', fontdict={\n",
        "           'fontname': 'Monospace', 'fontsize': 15})\n",
        "plt.tick_params(labelsize=10)\n",
        "plt.legend(loc=1, prop={'size': 15})\n",
        "plt.show()"
      ],
      "metadata": {
        "id": "RXmFXtbnJIDr"
      },
      "execution_count": null,
      "outputs": []
    },
    {
      "cell_type": "code",
      "source": [
        "# Ingresos vs Genero\n",
        "plt.style.use('fivethirtyeight')\n",
        "plt.figure(figsize=(7, 3))\n",
        "sns.countplot(df_income['gender'], hue=df_income['income_>50K'])\n",
        "plt.title('Ingresos Vs Genero', fontdict={\n",
        "          'fontname': 'Monospace', 'fontsize': 20, 'fontweight': 'bold'})\n",
        "plt.xlabel('Sexo', fontdict={\n",
        "           'fontname': 'Monospace', 'fontsize': 15})\n",
        "plt.ylabel('Numero de Personas', fontdict={\n",
        "           'fontname': 'Monospace', 'fontsize': 15})\n",
        "plt.tick_params(labelsize=10)\n",
        "plt.legend(loc=1, prop={'size': 10})\n",
        "plt.show()"
      ],
      "metadata": {
        "id": "J9ErOo04JblH"
      },
      "execution_count": null,
      "outputs": []
    },
    {
      "cell_type": "markdown",
      "source": [
        "###2.3 Analisis Multivariable\n"
      ],
      "metadata": {
        "id": "6SstKKTgJw7O"
      }
    },
    {
      "cell_type": "code",
      "source": [
        "#Mapa de calor de correlaciones\n",
        "sns.heatmap(df_income.corr(), annot= True)"
      ],
      "metadata": {
        "id": "bKIf07MSJzee"
      },
      "execution_count": null,
      "outputs": []
    },
    {
      "cell_type": "code",
      "source": [
        "#Pairplot\n",
        "sns.pairplot(df_income)"
      ],
      "metadata": {
        "id": "ELc8Fu_hLeH1"
      },
      "execution_count": null,
      "outputs": []
    },
    {
      "cell_type": "markdown",
      "source": [
        "### 2.3 Manipulacion de los datos"
      ],
      "metadata": {
        "id": "ijJo1TR4CJ4J"
      }
    },
    {
      "cell_type": "code",
      "source": [
        "#Label Encoder\n",
        "#A diferencia del método get_dummies(), label encoder convierte las columnas categoricas en valor númerico\n",
        "from sklearn.preprocessing import LabelEncoder\n",
        "\n",
        "for col in df_income.columns:\n",
        "    if df_income[col].dtypes == 'object':\n",
        "        encoder = LabelEncoder()\n",
        "        df_income[col] = encoder.fit_transform(df_income[col])"
      ],
      "metadata": {
        "id": "r_AKxNcdCPSf"
      },
      "execution_count": null,
      "outputs": []
    },
    {
      "cell_type": "code",
      "source": [
        "df_income.head()"
      ],
      "metadata": {
        "id": "6Lq5-F7nCY4D"
      },
      "execution_count": null,
      "outputs": []
    },
    {
      "cell_type": "code",
      "execution_count": null,
      "metadata": {
        "id": "_jRcNx6916fF"
      },
      "outputs": [],
      "source": [
        "#Dividimos nuestros datos para entrenar el modelo (Train, Validation) y para Test\n",
        "df_train_ = df_income.sample(frac= .80)\n",
        "df_test = df_income.drop(df_train_.index)"
      ]
    },
    {
      "cell_type": "code",
      "execution_count": null,
      "metadata": {
        "id": "XwYwqLJf3SP6"
      },
      "outputs": [],
      "source": [
        "#Dividimos nuesros datos train, validation and test\n",
        "X = df_train_.drop('income_>50K', axis = 1)\n",
        "y = df_train_['income_>50K']\n",
        "\n",
        "X_test = df_test.drop('income_>50K', axis = 1)\n",
        "y_test = df_test['income_>50K']\n",
        "\n",
        "X_train, X_valid, y_train, y_valid = train_test_split(X, y, random_state=0, test_size = 0.3)\n"
      ]
    },
    {
      "cell_type": "markdown",
      "source": [
        "#Random Forest"
      ],
      "metadata": {
        "id": "v8hc_9gkFEtg"
      }
    },
    {
      "cell_type": "markdown",
      "metadata": {
        "id": "-EPSH4fe3si7"
      },
      "source": [
        "##3.- Modelado ML"
      ]
    },
    {
      "cell_type": "markdown",
      "source": [
        ""
      ],
      "metadata": {
        "id": "YRlgMDXJFADF"
      }
    },
    {
      "cell_type": "code",
      "execution_count": null,
      "metadata": {
        "id": "88iIk9Iu5Ig4"
      },
      "outputs": [],
      "source": [
        "from sklearn.ensemble import RandomForestClassifier\n",
        "\n",
        "clf_rf = RandomForestClassifier(random_state = 0)\n",
        "clf_rf.fit(X_train, y_train)"
      ]
    },
    {
      "cell_type": "markdown",
      "source": [
        "##4.- Evaluamos"
      ],
      "metadata": {
        "id": "oRKIT_sYKxkP"
      }
    },
    {
      "cell_type": "code",
      "execution_count": null,
      "metadata": {
        "id": "tBr8RCjK5f9n"
      },
      "outputs": [],
      "source": [
        "#Imprimimos Scores\n",
        "print(\"Train Score:\", clf_rf.score(X_train,y_train))\n",
        "print(\"Validation Score:\", clf_rf.score(X_valid,y_valid))\n",
        "print(\"Test Score:\", clf_rf.score(X_test,y_test))"
      ]
    },
    {
      "cell_type": "markdown",
      "source": [
        "##5.- Ajustamos Parametros\n",
        "\n",
        "- n_estimators: número de árboles que construye el algoritmo antes de promediar las predicciones.\n",
        "\n",
        "- max_features: número máximo de características que el bosque aleatorio considera dividir un nodo.\n",
        "\n",
        "- min_sample_leaf: determina el número mínimo de hojas necesarias para dividir un nodo interno."
      ],
      "metadata": {
        "id": "dlSkNgUAKqsw"
      }
    },
    {
      "cell_type": "code",
      "source": [
        "clf_rf_ = RandomForestClassifier(random_state = 0, max_depth=20,n_estimators=100)\n",
        "clf_rf_.fit(X_train, y_train)\n",
        "\n",
        "#Imprimimos Scores\n",
        "print(\"Train Score:\", clf_rf_.score(X_train,y_train))\n",
        "print(\"Validation Score:\", clf_rf_.score(X_valid,y_valid))\n",
        "print(\"Test Score:\", clf_rf_.score(X_test,y_test))"
      ],
      "metadata": {
        "id": "nC3_BbKUK8-3"
      },
      "execution_count": null,
      "outputs": []
    },
    {
      "cell_type": "markdown",
      "source": [
        "###5.1 Grid Search"
      ],
      "metadata": {
        "id": "HDOdWxm9EBpq"
      }
    },
    {
      "cell_type": "code",
      "source": [
        "from sklearn.model_selection import GridSearchCV\n",
        "clf_rf_ = RandomForestClassifier(random_state = 0)\n",
        "model_params = {\n",
        "    'max_depth': [5,10,15,20,50],\n",
        "    'n_estimators':[100,200,300],\n",
        "    'min_samples_split': [5,10,20],\n",
        "}\n",
        "\n",
        "clf_grid = GridSearchCV(clf_rf_,model_params, cv = 3, verbose=10)\n",
        "clf_grid.fit(X_train,y_train)\n"
      ],
      "metadata": {
        "id": "ojTpAvrPDn_E"
      },
      "execution_count": null,
      "outputs": []
    },
    {
      "cell_type": "code",
      "source": [
        "print(clf_grid.best_estimator_.get_params())"
      ],
      "metadata": {
        "id": "bVZIrYCBExGj"
      },
      "execution_count": null,
      "outputs": []
    },
    {
      "cell_type": "code",
      "source": [
        "from sklearn.metrics import accuracy_score\n",
        "from sklearn.metrics import f1_score\n",
        "\n",
        "clf_rf_best = RandomForestClassifier(criterion ='gini', max_depth = 20, max_features='auto', min_samples_leaf=1, min_samples_split = 20, n_estimators = 200)\n",
        "clf_rf_best.fit(X_train,y_train)\n",
        "\n",
        "#Imprimimos Scores Acuracy\n",
        "print(\"Train Score Grid Search (Accuracy):\", clf_rf_best.score(X_train,y_train))\n",
        "print(\"Validation Grid Search Score (Accuracy):\", clf_rf_best.score(X_valid,y_valid))\n",
        "print(\"Test Score Grid Search (Accuracy):\", clf_rf_best.score(X_test,y_test))\n",
        "\n",
        "#Imprimimos Scores F1-Score\n",
        "y_pred_val = clf_rf_best.predict(X_valid)\n",
        "y_pred_test = clf_rf_best.predict(X_test)\n",
        "#f1_score(Y_test, Y_pred_log_reg))\n",
        "\n",
        "print(\"Validation Grid Search Score (F1-Score):\", f1_score(y_valid,y_pred_val))\n",
        "print(\"Test Grid Search Score(F1-Score):\", f1_score(y_test,y_pred_test))"
      ],
      "metadata": {
        "id": "WaRFFWCIFVWs"
      },
      "execution_count": null,
      "outputs": []
    },
    {
      "cell_type": "markdown",
      "source": [
        "#XGBoost\n",
        "\n",
        "<img src=\"https://www.neuraldojo.org/media/boost3.jpeg\"\n",
        "     alt=\"Markdown Monster icon\"\n",
        "     style=\"float: left; margin-right: 10px;\" width=\"100%\"/>"
      ],
      "metadata": {
        "id": "NwrnUnb0Tw3D"
      }
    },
    {
      "cell_type": "markdown",
      "source": [
        "##3.- Modelado ML"
      ],
      "metadata": {
        "id": "4hDOvcQPT1lp"
      }
    },
    {
      "cell_type": "code",
      "source": [
        "from xgboost import XGBClassifier\n",
        "clf_xgb = XGBClassifier(random_state = 0)\n",
        "clf_xgb.fit(X_train, y_train)"
      ],
      "metadata": {
        "id": "mqIIhIqQTye6"
      },
      "execution_count": null,
      "outputs": []
    },
    {
      "cell_type": "markdown",
      "source": [
        "##4.- Evaluamos"
      ],
      "metadata": {
        "id": "DH5aJkKlWXeq"
      }
    },
    {
      "cell_type": "code",
      "source": [
        "print(\"Train Score:\", clf_xgb.score(X_train,y_train))\n",
        "print(\"Validation Score:\", clf_xgb.score(X_valid,y_valid))\n",
        "print(\"Test Score:\", clf_xgb.score(X_test,y_test))"
      ],
      "metadata": {
        "id": "0_4ZHDl_WO3p"
      },
      "execution_count": null,
      "outputs": []
    },
    {
      "cell_type": "markdown",
      "source": [
        "##5.- Ajustamos Parámetros"
      ],
      "metadata": {
        "id": "e_Nr5i7jWnWi"
      }
    },
    {
      "cell_type": "code",
      "source": [
        "#Creamos nuestro modelo basico\n",
        "clf_xgb_ = XGBClassifier(random_state = 0)\n",
        "\n",
        "#imprimimos los parametros disponibles\n",
        "clf_xgb_.get_params()"
      ],
      "metadata": {
        "id": "cRWzuuOGYuM_"
      },
      "execution_count": null,
      "outputs": []
    },
    {
      "cell_type": "code",
      "source": [
        "model_params = {\n",
        "    'learning_rate': [0.05,0.1],\n",
        "    'max_depth': [5,10,15],\n",
        "    'n_estimators':[100,200]\n",
        "}\n",
        "clf_grid_xgb = GridSearchCV(clf_xgb_,model_params, cv = 5, verbose=10)\n",
        "clf_grid_xgb.fit(X_train,y_train)"
      ],
      "metadata": {
        "id": "sPTZLXmVWa2c"
      },
      "execution_count": null,
      "outputs": []
    },
    {
      "cell_type": "code",
      "source": [
        "print(clf_grid_xgb.best_estimator_.get_params())"
      ],
      "metadata": {
        "id": "8jC-SPDzXEMM"
      },
      "execution_count": null,
      "outputs": []
    },
    {
      "cell_type": "code",
      "source": [
        "clf_xgb_best = XGBClassifier(random_state = 0, max_depth = 5, n_estimators = 200)\n",
        "clf_xgb_best.fit(X_train,y_train)\n",
        "\n",
        "#Imprimimos Scores Acuracy\n",
        "print(\"Train Score Grid Search (Accuracy):\", clf_xgb_best.score(X_train,y_train))\n",
        "print(\"Validation Grid Search Score (Accuracy):\", clf_xgb_best.score(X_valid,y_valid))\n",
        "print(\"Test Score Grid Search (Accuracy):\", clf_xgb_best.score(X_test,y_test))\n",
        "\n",
        "#Imprimimos Scores F1-Score\n",
        "y_pred_val = clf_xgb_best.predict(X_valid)\n",
        "y_pred_test = clf_xgb_best.predict(X_test)\n",
        "#f1_score(Y_test, Y_pred_log_reg))\n",
        "\n",
        "print(\"Validation Grid Search Score (F1-Score):\", f1_score(y_valid,y_pred_val))\n",
        "print(\"Test Grid Search Score(F1-Score):\", f1_score(y_test,y_pred_test))"
      ],
      "metadata": {
        "id": "ZWAK4xAAXMr5"
      },
      "execution_count": null,
      "outputs": []
    },
    {
      "cell_type": "markdown",
      "source": [
        "# Neural Networks\n",
        "\n",
        "<img src=\"https://www.neuraldojo.org/media/nn.jpg\"\n",
        "     alt=\"Markdown Monster icon\"\n",
        "     style=\"float: left; margin-right: 10px;\" width=\"100%\"/>"
      ],
      "metadata": {
        "id": "cVFjPCN4cDR2"
      }
    },
    {
      "cell_type": "code",
      "source": [
        "#normalizamos los datos, en redes neuronales es recomendable realizar este paso de reescalado de los datos\n",
        "from sklearn.preprocessing import MinMaxScaler\n",
        "\n",
        "columns = X_train.columns\n",
        "\n",
        "scaler = MinMaxScaler()\n",
        "\n",
        "X_train_norm = pd.DataFrame(scaler.fit_transform(X_train), columns = columns)\n",
        "X_valid_norm = pd.DataFrame(scaler.fit_transform(X_valid), columns = columns)\n",
        "X_test_norm = pd.DataFrame(scaler.fit_transform(X_test), columns = columns)\n",
        "\n",
        "X_train_norm.head()"
      ],
      "metadata": {
        "id": "AdzJMDDAikAY"
      },
      "execution_count": null,
      "outputs": []
    },
    {
      "cell_type": "markdown",
      "source": [
        "##3.- Modeloado ML"
      ],
      "metadata": {
        "id": "amq57gV3VZjM"
      }
    },
    {
      "cell_type": "code",
      "source": [
        "from sklearn.neural_network import MLPClassifier\n",
        "\n",
        "clf_nn = MLPClassifier(random_state = 0, hidden_layer_sizes = (100,50,20,10,5))\n",
        "clf_nn.fit(X_train_norm, y_train)"
      ],
      "metadata": {
        "id": "3anaxdoTYU3K"
      },
      "execution_count": null,
      "outputs": []
    },
    {
      "cell_type": "code",
      "source": [
        "clf_nn.get_params()"
      ],
      "metadata": {
        "id": "SeZBXk1pl64U"
      },
      "execution_count": null,
      "outputs": []
    },
    {
      "cell_type": "markdown",
      "source": [
        "##4.- Evaluamos"
      ],
      "metadata": {
        "id": "siCbhAV8cxML"
      }
    },
    {
      "cell_type": "code",
      "source": [
        "print(\"Train Score:\", clf_nn.score(X_train,y_train))\n",
        "print(\"Validation Score:\", clf_nn.score(X_valid,y_valid))\n",
        "print(\"Test Score:\", clf_nn.score(X_test,y_test))"
      ],
      "metadata": {
        "id": "p2SGfq9RcTWS"
      },
      "execution_count": null,
      "outputs": []
    },
    {
      "cell_type": "markdown",
      "source": [
        "##5.- Ajustamos parámetros"
      ],
      "metadata": {
        "id": "N3WDhcgjf9pz"
      }
    },
    {
      "cell_type": "code",
      "source": [
        "#Creamos nuestro modelo basico\n",
        "clf_nn_ = MLPClassifier(random_state = 0)\n",
        "\n",
        "#imprimimos los parametros disponibles\n",
        "clf_nn_.get_params()"
      ],
      "metadata": {
        "id": "7Gtfu0iRc0TJ"
      },
      "execution_count": null,
      "outputs": []
    },
    {
      "cell_type": "code",
      "source": [
        "clf_nn_ = MLPClassifier(random_state = 0)\n",
        "model_params = {\n",
        "    'hidden_layer_sizes': [(50,50,50), (50,100,50), (100,)],\n",
        "    'activation': ['tanh', 'relu'],\n",
        "    'solver': ['sgd', 'adam'],\n",
        "    'alpha': [0.0001, 0.05],\n",
        "    'learning_rate': ['constant','adaptive'],\n",
        "}"
      ],
      "metadata": {
        "id": "lx50fBsMgHXe"
      },
      "execution_count": null,
      "outputs": []
    },
    {
      "cell_type": "code",
      "source": [
        "clf_grid_nn = GridSearchCV(clf_nn_,model_params, cv = 5, verbose=10)\n",
        "clf_grid_nn.fit(X_train,y_train)"
      ],
      "metadata": {
        "id": "QdNcDEt6g4jK"
      },
      "execution_count": null,
      "outputs": []
    },
    {
      "cell_type": "code",
      "source": [
        "clf_grid_nn.best_estimator_.get_params()"
      ],
      "metadata": {
        "id": "vhS1BocahHkM"
      },
      "execution_count": null,
      "outputs": []
    },
    {
      "cell_type": "code",
      "source": [
        "clf_nn_best = MLPClassifier()\n",
        "clf_nn_best.fit(X_train,y_train)\n",
        "\n",
        "#Imprimimos Scores Acuracy\n",
        "print(\"Train Score Grid Search (Accuracy):\", clf_nn_best.score(X_train,y_train))\n",
        "print(\"Validation Grid Search Score (Accuracy):\", clf_nn_best.score(X_valid,y_valid))\n",
        "print(\"Test Score Grid Search (Accuracy):\", clf_nn_best.score(X_test,y_test))\n",
        "\n",
        "#Imprimimos Scores F1-Score\n",
        "y_pred_val = clf_nn_best.predict(X_valid)\n",
        "y_pred_test = clf_nn_best.predict(X_test)\n",
        "#f1_score(Y_test, Y_pred_log_reg))\n",
        "\n",
        "print(\"Validation Grid Search Score (F1-Score):\", f1_score(y_valid,y_pred_val))\n",
        "print(\"Test Grid Search Score(F1-Score):\", f1_score(y_test,y_pred_test))"
      ],
      "metadata": {
        "id": "dqNRs1PehWIQ"
      },
      "execution_count": null,
      "outputs": []
    }
  ],
  "metadata": {
    "accelerator": "GPU",
    "colab": {
      "collapsed_sections": [],
      "name": "Unidad II. Tema 15. Random Forest, XGBoost, NN.ipynb",
      "toc_visible": true,
      "provenance": [],
      "authorship_tag": "ABX9TyMpmEqE2CTMmQBWIaH9f7JF",
      "include_colab_link": true
    },
    "kernelspec": {
      "display_name": "Python 3",
      "name": "python3"
    },
    "language_info": {
      "name": "python"
    }
  },
  "nbformat": 4,
  "nbformat_minor": 0
}